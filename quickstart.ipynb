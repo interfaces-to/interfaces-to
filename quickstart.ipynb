{
 "cells": [
  {
   "cell_type": "code",
   "execution_count": null,
   "metadata": {},
   "outputs": [],
   "source": [
    "# install interfaces-to \n",
    "!pip install interfaces-to\n",
    "\n",
    "# depending on which tools you use, you'll need the appropriate dependencies\n",
    "!pip install \"interfaces_to[slack]\"\n",
    "\n",
    "# contributing? if developing locally\n",
    "!poetry install --with dev"
   ]
  },
  {
   "cell_type": "markdown",
   "metadata": {},
   "source": [
    "## Create your first LLM agent with 4 lines of code!"
   ]
  },
  {
   "cell_type": "code",
   "execution_count": null,
   "metadata": {},
   "outputs": [],
   "source": [
    "# 1️⃣ import `into`\n",
    "import interfaces_to as into\n",
    "\n",
    "# 2️⃣ import the OpenAI client as normal\n",
    "from openai import OpenAI\n",
    "client = OpenAI()\n",
    "\n",
    "# 3️⃣ add your favourite tools\n",
    "tools = into.import_tools(['Slack','OpenAI'])\n",
    "\n",
    "# 4️⃣ provide some input and start the loop\n",
    "messages = [{\"role\": \"user\", \"content\": \"What was the last thing said in each slack channel? Write a 5 line poem to summarise and share it in an appropriate channel\"}]\n",
    "while messages := into.running(messages):\n",
    "\n",
    "  # 5️⃣ create a completion as normal, and run your tools! 🪄\n",
    "  completion = client.chat.completions.create(\n",
    "    model=\"gpt-4o\",\n",
    "    messages=messages,\n",
    "    tools=tools,\n",
    "    tool_choice=\"auto\"\n",
    "  )\n",
    "  messages = into.run(messages, completion, tools)\n",
    "\n",
    "# 6️⃣ stand back and watch the magic happen! 🎩✨"
   ]
  },
  {
   "cell_type": "markdown",
   "metadata": {},
   "source": [
    "## Create a fully fledged Slackbot by adding dynamic messages"
   ]
  },
  {
   "cell_type": "code",
   "execution_count": null,
   "metadata": {},
   "outputs": [],
   "source": [
    "# 1️⃣ import `into`\n",
    "import interfaces_to as into\n",
    "\n",
    "# 2️⃣ import the OpenAI client as normal\n",
    "from openai import OpenAI\n",
    "client = OpenAI()\n",
    "\n",
    "# 3️⃣ add your favourite tools\n",
    "tools = into.import_tools(['Slack','OpenAI'])\n",
    "\n",
    "# 4️⃣ read messages dynamically and start the loop\n",
    "messages = into.read_messages(['Slack'])\n",
    "while messages := into.running(messages):\n",
    "\n",
    "  # 5️⃣ create a completion as normal, and run your tools! 🪄\n",
    "  completion = client.chat.completions.create(\n",
    "    model=\"gpt-4o\",\n",
    "    messages=messages,\n",
    "    tools=tools,\n",
    "    tool_choice=\"auto\"\n",
    "  )\n",
    "  messages = into.run(messages, completion, tools)\n",
    "\n",
    "# 6️⃣ you just built AI's smartest Slack bot in 10 seconds! 🎩✨"
   ]
  },
  {
   "cell_type": "markdown",
   "metadata": {},
   "source": [
    "# ✨ Introducing the new Agent API\n",
    "\n",
    "The new Agent API further simplifies the process of creating an LLM agent by combining the separate steps of the process into one convenient Agent class, just add your completion! It also supports changing the agent's behavior through system messages."
   ]
  },
  {
   "cell_type": "markdown",
   "metadata": {},
   "source": [
    "## With manual prompting"
   ]
  },
  {
   "cell_type": "code",
   "execution_count": null,
   "metadata": {},
   "outputs": [],
   "source": [
    "# 1️⃣ import `into`\n",
    "import interfaces_to as into\n",
    "\n",
    "# 2️⃣ import the OpenAI client as normal\n",
    "from openai import OpenAI\n",
    "client = OpenAI()\n",
    "\n",
    "# 3️⃣ add your favourite tools and set a message\n",
    "agent = into.Agent().add_tools(['Slack','OpenAI']).add_messages(\"Hello there!\")\n",
    "\n",
    "# 4️⃣ start the agent loop, with an OpenAI completion\n",
    "while agent:\n",
    "  agent.completion = client.chat.completions.create(\n",
    "    model=\"gpt-4o\",\n",
    "    messages=agent.messages,\n",
    "    tools=agent.tools,\n",
    "    tool_choice=\"auto\"\n",
    "  )\n",
    "\n",
    "# 5️⃣ watch the magic happen! 🎩✨"
   ]
  },
  {
   "cell_type": "markdown",
   "metadata": {},
   "source": [
    "## Create a Slackbot with 3 lines of code"
   ]
  },
  {
   "cell_type": "code",
   "execution_count": null,
   "metadata": {},
   "outputs": [],
   "source": [
    "# 1️⃣ import `into`\n",
    "import interfaces_to as into\n",
    "\n",
    "# 2️⃣ import the OpenAI client as normal\n",
    "from openai import OpenAI\n",
    "client = OpenAI()\n",
    "\n",
    "# 3️⃣ connect your tools and messages\n",
    "agent = into.Agent(\"talk like a pirate\").add_tools(['Slack', 'OpenAI']).add_messages(['Slack'])\n",
    "\n",
    "# 4️⃣ start the agent loop, with an OpenAI completion\n",
    "while agent:\n",
    "    agent.completion = client.chat.completions.create(\n",
    "        model=\"gpt-4o\",\n",
    "        messages=agent.messages,\n",
    "        tools=agent.tools,\n",
    "        tool_choice=\"auto\"\n",
    "    )\n",
    "\n",
    "# 5️⃣ watch the magic happen! 🎩✨"
   ]
  }
 ],
 "metadata": {
  "kernelspec": {
   "display_name": "Python 3",
   "language": "python",
   "name": "python3"
  },
  "language_info": {
   "codemirror_mode": {
    "name": "ipython",
    "version": 3
   },
   "file_extension": ".py",
   "mimetype": "text/x-python",
   "name": "python",
   "nbconvert_exporter": "python",
   "pygments_lexer": "ipython3",
   "version": "3.11.7"
  }
 },
 "nbformat": 4,
 "nbformat_minor": 2
}
