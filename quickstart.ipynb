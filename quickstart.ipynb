{
 "cells": [
  {
   "cell_type": "code",
   "execution_count": null,
   "metadata": {},
   "outputs": [],
   "source": [
    "!pip install interfaces-to python-dotenv openai slack_sdk"
   ]
  },
  {
   "cell_type": "code",
   "execution_count": null,
   "metadata": {},
   "outputs": [],
   "source": [
    "# CONTRIBUTORS: uncommit this to load the folder ./interfaces_to as if it were a module\n",
    "# import sys\n",
    "# sys.path.append('./interfaces_to')"
   ]
  },
  {
   "cell_type": "code",
   "execution_count": 1,
   "metadata": {},
   "outputs": [
    {
     "name": "stdout",
     "output_type": "stream",
     "text": [
      "{'ok': True, 'channels': [{'id': 'C07EEUES770', 'name': 'general', 'is_channel': True, 'is_group': False, 'is_im': False, 'is_mpim': False, 'is_private': False, 'created': 1722315932, 'is_archived': False, 'is_general': True, 'unlinked': 0, 'name_normalized': 'general', 'is_shared': False, 'is_org_shared': False, 'is_pending_ext_shared': False, 'pending_shared': [], 'context_team_id': 'T07EJLJGULD', 'updated': 1722315932427, 'parent_conversation': None, 'creator': 'U07EMHJFELS', 'is_ext_shared': False, 'shared_team_ids': ['T07EJLJGULD'], 'pending_connected_team_ids': [], 'is_member': True, 'topic': {'value': '', 'creator': '', 'last_set': 0}, 'purpose': {'value': 'This is the one channel that will always include everyone. It’s a great spot for announcements and team-wide conversations.', 'creator': 'U07EMHJFELS', 'last_set': 1722315932}, 'properties': {'use_case': 'welcome'}, 'previous_names': [], 'num_members': 2}, {'id': 'C07F07WG93K', 'name': 'welcome', 'is_channel': True, 'is_group': False, 'is_im': False, 'is_mpim': False, 'is_private': False, 'created': 1722316049, 'is_archived': False, 'is_general': False, 'unlinked': 0, 'name_normalized': 'welcome', 'is_shared': False, 'is_org_shared': False, 'is_pending_ext_shared': False, 'pending_shared': [], 'context_team_id': 'T07EJLJGULD', 'updated': 1722316050978, 'parent_conversation': None, 'creator': 'U07EMHJFELS', 'is_ext_shared': False, 'shared_team_ids': ['T07EJLJGULD'], 'pending_connected_team_ids': [], 'is_member': False, 'topic': {'value': '', 'creator': '', 'last_set': 0}, 'purpose': {'value': 'This channel is for everything #welcome. Hold meetings, share docs, and make decisions together with your team.', 'creator': 'U07EMHJFELS', 'last_set': 1722316049}, 'properties': {'canvas': {'file_id': 'F07EJLQE23F', 'quip_thread_id': 'WGF9AAqAwgn'}, 'use_case': 'project'}, 'previous_names': [], 'num_members': 1}, {'id': 'C07FABE8J8G', 'name': 'random', 'is_channel': True, 'is_group': False, 'is_im': False, 'is_mpim': False, 'is_private': False, 'created': 1722315932, 'is_archived': False, 'is_general': False, 'unlinked': 0, 'name_normalized': 'random', 'is_shared': False, 'is_org_shared': False, 'is_pending_ext_shared': False, 'pending_shared': [], 'context_team_id': 'T07EJLJGULD', 'updated': 1722315932678, 'parent_conversation': None, 'creator': 'U07EMHJFELS', 'is_ext_shared': False, 'shared_team_ids': ['T07EJLJGULD'], 'pending_connected_team_ids': [], 'is_member': True, 'topic': {'value': '', 'creator': '', 'last_set': 0}, 'purpose': {'value': 'This channel is for... well, everything else. It’s a place for team jokes, spur-of-the-moment ideas, and funny GIFs.', 'creator': 'U07EMHJFELS', 'last_set': 1722315932}, 'properties': {'use_case': 'random'}, 'previous_names': [], 'num_members': 2}], 'response_metadata': {'next_cursor': ''}}\n",
      "Message sent to general with timestamp 1722344279.271989: Hello everyone! I'm your new AI assistant here to help with all things! Don't hesitate to reach out if you need anything.\n",
      "{'ok': True, 'channels': [{'id': 'C07EEUES770', 'name': 'general', 'is_channel': True, 'is_group': False, 'is_im': False, 'is_mpim': False, 'is_private': False, 'created': 1722315932, 'is_archived': False, 'is_general': True, 'unlinked': 0, 'name_normalized': 'general', 'is_shared': False, 'is_org_shared': False, 'is_pending_ext_shared': False, 'pending_shared': [], 'context_team_id': 'T07EJLJGULD', 'updated': 1722315932427, 'parent_conversation': None, 'creator': 'U07EMHJFELS', 'is_ext_shared': False, 'shared_team_ids': ['T07EJLJGULD'], 'pending_connected_team_ids': [], 'is_member': True, 'topic': {'value': '', 'creator': '', 'last_set': 0}, 'purpose': {'value': 'This is the one channel that will always include everyone. It’s a great spot for announcements and team-wide conversations.', 'creator': 'U07EMHJFELS', 'last_set': 1722315932}, 'properties': {'use_case': 'welcome'}, 'previous_names': [], 'num_members': 2}, {'id': 'C07F07WG93K', 'name': 'welcome', 'is_channel': True, 'is_group': False, 'is_im': False, 'is_mpim': False, 'is_private': False, 'created': 1722316049, 'is_archived': False, 'is_general': False, 'unlinked': 0, 'name_normalized': 'welcome', 'is_shared': False, 'is_org_shared': False, 'is_pending_ext_shared': False, 'pending_shared': [], 'context_team_id': 'T07EJLJGULD', 'updated': 1722316050978, 'parent_conversation': None, 'creator': 'U07EMHJFELS', 'is_ext_shared': False, 'shared_team_ids': ['T07EJLJGULD'], 'pending_connected_team_ids': [], 'is_member': False, 'topic': {'value': '', 'creator': '', 'last_set': 0}, 'purpose': {'value': 'This channel is for everything #welcome. Hold meetings, share docs, and make decisions together with your team.', 'creator': 'U07EMHJFELS', 'last_set': 1722316049}, 'properties': {'canvas': {'file_id': 'F07EJLQE23F', 'quip_thread_id': 'WGF9AAqAwgn'}, 'use_case': 'project'}, 'previous_names': [], 'num_members': 1}, {'id': 'C07FABE8J8G', 'name': 'random', 'is_channel': True, 'is_group': False, 'is_im': False, 'is_mpim': False, 'is_private': False, 'created': 1722315932, 'is_archived': False, 'is_general': False, 'unlinked': 0, 'name_normalized': 'random', 'is_shared': False, 'is_org_shared': False, 'is_pending_ext_shared': False, 'pending_shared': [], 'context_team_id': 'T07EJLJGULD', 'updated': 1722315932678, 'parent_conversation': None, 'creator': 'U07EMHJFELS', 'is_ext_shared': False, 'shared_team_ids': ['T07EJLJGULD'], 'pending_connected_team_ids': [], 'is_member': True, 'topic': {'value': '', 'creator': '', 'last_set': 0}, 'purpose': {'value': 'This channel is for... well, everything else. It’s a place for team jokes, spur-of-the-moment ideas, and funny GIFs.', 'creator': 'U07EMHJFELS', 'last_set': 1722315932}, 'properties': {'use_case': 'random'}, 'previous_names': [], 'num_members': 2}], 'response_metadata': {'next_cursor': ''}}\n",
      "Message sent to random with timestamp 1722344279.959859: Why don't scientists trust atoms? Because they make up everything!\n"
     ]
    },
    {
     "data": {
      "text/plain": [
       "[{'role': 'user',\n",
       "  'content': 'Introduce yourself in #general and make a joke in #random'},\n",
       " {'role': 'assistant',\n",
       "  'content': None,\n",
       "  'tool_calls': [{'id': 'call_PJGIuwZCFJBc00o6uQStcXwj',\n",
       "    'type': 'function',\n",
       "    'function': {'name': 'send_slack_message',\n",
       "     'arguments': '{\"channel\": \"general\", \"message\": \"Hello everyone! I\\'m your new AI assistant here to help with all things! Don\\'t hesitate to reach out if you need anything.\"}'}},\n",
       "   {'id': 'call_GcpbSRUZ5GWn2imCYQkffI3r',\n",
       "    'type': 'function',\n",
       "    'function': {'name': 'send_slack_message',\n",
       "     'arguments': '{\"channel\": \"random\", \"message\": \"Why don\\'t scientists trust atoms? Because they make up everything!\"}'}}]},\n",
       " {'role': 'tool',\n",
       "  'content': \"Message sent to general with timestamp 1722344279.271989: Hello everyone! I'm your new AI assistant here to help with all things! Don't hesitate to reach out if you need anything.\",\n",
       "  'tool_call_id': 'call_PJGIuwZCFJBc00o6uQStcXwj'},\n",
       " {'role': 'tool',\n",
       "  'content': \"Message sent to random with timestamp 1722344279.959859: Why don't scientists trust atoms? Because they make up everything!\",\n",
       "  'tool_call_id': 'call_GcpbSRUZ5GWn2imCYQkffI3r'},\n",
       " {'role': 'assistant',\n",
       "  'content': \"I've introduced myself in the #general channel and shared a joke in the #random channel! If there is anything else you need, feel free to let me know.\"}]"
      ]
     },
     "execution_count": 1,
     "metadata": {},
     "output_type": "execute_result"
    }
   ],
   "source": [
    "# load .env file\n",
    "from dotenv import load_dotenv\n",
    "load_dotenv()\n",
    "\n",
    "from openai import OpenAI\n",
    "client = OpenAI()\n",
    "\n",
    "# 1️⃣ import `into`\n",
    "import interfaces_to as into\n",
    "\n",
    "# 2️⃣ add your favourite tools\n",
    "tools = [*into.Slack(functions=[\"send_slack_message\"])]\n",
    "\n",
    "# 3️⃣ provide some input and start the loop\n",
    "messages = [{\"role\": \"user\", \"content\": \"Introduce yourself in #general and make a joke in #random\"}]\n",
    "while into.running(messages):\n",
    "\n",
    "  # 4️⃣ create a completion as normal, and run your tools! 🪄\n",
    "  completion = client.chat.completions.create(\n",
    "    model=\"gpt-4o\",\n",
    "    messages=messages,\n",
    "    tools=tools,\n",
    "    tool_choice=\"auto\"\n",
    "  )\n",
    "  messages = into.run(messages, completion, tools)\n",
    "\n",
    "messages"
   ]
  }
 ],
 "metadata": {
  "kernelspec": {
   "display_name": "Python 3",
   "language": "python",
   "name": "python3"
  },
  "language_info": {
   "codemirror_mode": {
    "name": "ipython",
    "version": 3
   },
   "file_extension": ".py",
   "mimetype": "text/x-python",
   "name": "python",
   "nbconvert_exporter": "python",
   "pygments_lexer": "ipython3",
   "version": "3.11.7"
  }
 },
 "nbformat": 4,
 "nbformat_minor": 2
}
